{
 "cells": [
  {
   "cell_type": "code",
   "execution_count": 53,
   "id": "362db346",
   "metadata": {},
   "outputs": [],
   "source": [
    "import numpy as np\n",
    "import pandas as pd\n",
    "from numpy import mean, std\n",
    "\n",
    "from sklearn.metrics import accuracy_score as ac_score\n",
    "from sklearn.metrics import confusion_matrix as conf_mat\n",
    "from sklearn.metrics import classification_report as class_rep\n",
    "\n",
    "from sklearn.model_selection import KFold\n",
    "from sklearn.model_selection import cross_val_score\n",
    "from sklearn.model_selection import RepeatedKFold\n",
    "from sklearn.model_selection import StratifiedKFold\n",
    "\n",
    "from sklearn.linear_model import LogisticRegression\n",
    "from sklearn.tree import DecisionTreeClassifier\n",
    "\n",
    "import array\n",
    "import pickle"
   ]
  },
  {
   "cell_type": "code",
   "execution_count": 54,
   "id": "6948d335",
   "metadata": {},
   "outputs": [],
   "source": [
    "data = pd.read_csv('coffee_dataset.csv')"
   ]
  },
  {
   "cell_type": "code",
   "execution_count": 55,
   "id": "d431c2e7",
   "metadata": {},
   "outputs": [
    {
     "data": {
      "text/html": [
       "<div>\n",
       "<style scoped>\n",
       "    .dataframe tbody tr th:only-of-type {\n",
       "        vertical-align: middle;\n",
       "    }\n",
       "\n",
       "    .dataframe tbody tr th {\n",
       "        vertical-align: top;\n",
       "    }\n",
       "\n",
       "    .dataframe thead th {\n",
       "        text-align: right;\n",
       "    }\n",
       "</style>\n",
       "<table border=\"1\" class=\"dataframe\">\n",
       "  <thead>\n",
       "    <tr style=\"text-align: right;\">\n",
       "      <th></th>\n",
       "      <th>MQ-2 Values</th>\n",
       "      <th>MQ-7 Values</th>\n",
       "      <th>MQ-135 Values</th>\n",
       "      <th>MQ-137 Values</th>\n",
       "      <th>is_not_barako</th>\n",
       "    </tr>\n",
       "  </thead>\n",
       "  <tbody>\n",
       "    <tr>\n",
       "      <th>5275</th>\n",
       "      <td>353</td>\n",
       "      <td>285</td>\n",
       "      <td>376</td>\n",
       "      <td>228</td>\n",
       "      <td>1</td>\n",
       "    </tr>\n",
       "    <tr>\n",
       "      <th>5276</th>\n",
       "      <td>353</td>\n",
       "      <td>285</td>\n",
       "      <td>377</td>\n",
       "      <td>228</td>\n",
       "      <td>1</td>\n",
       "    </tr>\n",
       "    <tr>\n",
       "      <th>5277</th>\n",
       "      <td>353</td>\n",
       "      <td>285</td>\n",
       "      <td>377</td>\n",
       "      <td>228</td>\n",
       "      <td>1</td>\n",
       "    </tr>\n",
       "    <tr>\n",
       "      <th>5278</th>\n",
       "      <td>353</td>\n",
       "      <td>285</td>\n",
       "      <td>377</td>\n",
       "      <td>228</td>\n",
       "      <td>1</td>\n",
       "    </tr>\n",
       "    <tr>\n",
       "      <th>5279</th>\n",
       "      <td>353</td>\n",
       "      <td>284</td>\n",
       "      <td>377</td>\n",
       "      <td>228</td>\n",
       "      <td>1</td>\n",
       "    </tr>\n",
       "  </tbody>\n",
       "</table>\n",
       "</div>"
      ],
      "text/plain": [
       "      MQ-2 Values  MQ-7 Values  MQ-135 Values  MQ-137 Values  is_not_barako\n",
       "5275          353          285            376            228              1\n",
       "5276          353          285            377            228              1\n",
       "5277          353          285            377            228              1\n",
       "5278          353          285            377            228              1\n",
       "5279          353          284            377            228              1"
      ]
     },
     "execution_count": 55,
     "metadata": {},
     "output_type": "execute_result"
    }
   ],
   "source": [
    "data.tail()"
   ]
  },
  {
   "cell_type": "code",
   "execution_count": 56,
   "id": "59f13b50",
   "metadata": {},
   "outputs": [],
   "source": [
    "cleaned = data.drop_duplicates(keep=False)"
   ]
  },
  {
   "cell_type": "code",
   "execution_count": 57,
   "id": "81344dc6",
   "metadata": {},
   "outputs": [
    {
     "data": {
      "text/html": [
       "<div>\n",
       "<style scoped>\n",
       "    .dataframe tbody tr th:only-of-type {\n",
       "        vertical-align: middle;\n",
       "    }\n",
       "\n",
       "    .dataframe tbody tr th {\n",
       "        vertical-align: top;\n",
       "    }\n",
       "\n",
       "    .dataframe thead th {\n",
       "        text-align: right;\n",
       "    }\n",
       "</style>\n",
       "<table border=\"1\" class=\"dataframe\">\n",
       "  <thead>\n",
       "    <tr style=\"text-align: right;\">\n",
       "      <th></th>\n",
       "      <th>count</th>\n",
       "      <th>mean</th>\n",
       "      <th>std</th>\n",
       "      <th>min</th>\n",
       "      <th>25%</th>\n",
       "      <th>50%</th>\n",
       "      <th>75%</th>\n",
       "      <th>max</th>\n",
       "    </tr>\n",
       "  </thead>\n",
       "  <tbody>\n",
       "    <tr>\n",
       "      <th>MQ-2 Values</th>\n",
       "      <td>1349.0</td>\n",
       "      <td>361.863603</td>\n",
       "      <td>60.310515</td>\n",
       "      <td>151.0</td>\n",
       "      <td>330.0</td>\n",
       "      <td>356.0</td>\n",
       "      <td>418.0</td>\n",
       "      <td>450.0</td>\n",
       "    </tr>\n",
       "    <tr>\n",
       "      <th>MQ-7 Values</th>\n",
       "      <td>1349.0</td>\n",
       "      <td>172.562639</td>\n",
       "      <td>119.701520</td>\n",
       "      <td>50.0</td>\n",
       "      <td>68.0</td>\n",
       "      <td>104.0</td>\n",
       "      <td>312.0</td>\n",
       "      <td>376.0</td>\n",
       "    </tr>\n",
       "    <tr>\n",
       "      <th>MQ-135 Values</th>\n",
       "      <td>1349.0</td>\n",
       "      <td>377.157153</td>\n",
       "      <td>75.882331</td>\n",
       "      <td>140.0</td>\n",
       "      <td>336.0</td>\n",
       "      <td>391.0</td>\n",
       "      <td>435.0</td>\n",
       "      <td>488.0</td>\n",
       "    </tr>\n",
       "    <tr>\n",
       "      <th>MQ-137 Values</th>\n",
       "      <td>1349.0</td>\n",
       "      <td>196.441809</td>\n",
       "      <td>64.682853</td>\n",
       "      <td>57.0</td>\n",
       "      <td>149.0</td>\n",
       "      <td>192.0</td>\n",
       "      <td>253.0</td>\n",
       "      <td>310.0</td>\n",
       "    </tr>\n",
       "    <tr>\n",
       "      <th>is_not_barako</th>\n",
       "      <td>1349.0</td>\n",
       "      <td>0.484062</td>\n",
       "      <td>0.499931</td>\n",
       "      <td>0.0</td>\n",
       "      <td>0.0</td>\n",
       "      <td>0.0</td>\n",
       "      <td>1.0</td>\n",
       "      <td>1.0</td>\n",
       "    </tr>\n",
       "  </tbody>\n",
       "</table>\n",
       "</div>"
      ],
      "text/plain": [
       "                count        mean         std    min    25%    50%    75%  \\\n",
       "MQ-2 Values    1349.0  361.863603   60.310515  151.0  330.0  356.0  418.0   \n",
       "MQ-7 Values    1349.0  172.562639  119.701520   50.0   68.0  104.0  312.0   \n",
       "MQ-135 Values  1349.0  377.157153   75.882331  140.0  336.0  391.0  435.0   \n",
       "MQ-137 Values  1349.0  196.441809   64.682853   57.0  149.0  192.0  253.0   \n",
       "is_not_barako  1349.0    0.484062    0.499931    0.0    0.0    0.0    1.0   \n",
       "\n",
       "                 max  \n",
       "MQ-2 Values    450.0  \n",
       "MQ-7 Values    376.0  \n",
       "MQ-135 Values  488.0  \n",
       "MQ-137 Values  310.0  \n",
       "is_not_barako    1.0  "
      ]
     },
     "execution_count": 57,
     "metadata": {},
     "output_type": "execute_result"
    }
   ],
   "source": [
    "cleaned.describe().T"
   ]
  },
  {
   "cell_type": "code",
   "execution_count": 58,
   "id": "ee4544cc",
   "metadata": {},
   "outputs": [
    {
     "data": {
      "text/plain": [
       "0    696\n",
       "1    653\n",
       "Name: is_not_barako, dtype: int64"
      ]
     },
     "execution_count": 58,
     "metadata": {},
     "output_type": "execute_result"
    }
   ],
   "source": [
    "cleaned.is_not_barako.value_counts()"
   ]
  },
  {
   "cell_type": "code",
   "execution_count": 59,
   "id": "1cebfc72",
   "metadata": {},
   "outputs": [],
   "source": [
    "X = cleaned.drop(columns = ['is_not_barako']).values\n",
    "y = cleaned.is_not_barako.values #1:barako; 0:not barako"
   ]
  },
  {
   "cell_type": "code",
   "execution_count": 60,
   "id": "5dd3b69d",
   "metadata": {},
   "outputs": [],
   "source": [
    "lr = LogisticRegression(class_weight='balanced', max_iter=20, random_state=1234, solver='sag')"
   ]
  },
  {
   "cell_type": "markdown",
   "id": "37439f37",
   "metadata": {},
   "source": [
    "### K-fold Validation"
   ]
  },
  {
   "cell_type": "code",
   "execution_count": 70,
   "id": "694301ee",
   "metadata": {},
   "outputs": [
    {
     "name": "stdout",
     "output_type": "stream",
     "text": [
      "number of splits: 2\n",
      "highest score: 0.6237037037037036\n",
      "\n",
      "number of splits: 3\n",
      "highest score: 0.6266666666666667\n",
      "\n",
      "number of splits: 4\n",
      "highest score: 0.658753709198813\n",
      "\n",
      "number of splits: 5\n",
      "highest score: 0.6666666666666666\n",
      "\n",
      "number of splits: 6\n",
      "highest score: 0.6222222222222222\n",
      "\n",
      "number of splits: 7\n",
      "highest score: 0.6839378238341969\n",
      "\n",
      "number of splits: 8\n",
      "highest score: 0.6627218934911243\n",
      "\n",
      "number of splits: 9\n",
      "highest score: 0.6866666666666666\n",
      "\n",
      "number of splits: 10\n",
      "highest score: 0.6518518518518519\n",
      "\n",
      "number of splits: 11\n",
      "highest score: 0.6910569105691057\n",
      "\n",
      "number of splits: 12\n",
      "highest score: 0.6814159292035398\n",
      "\n",
      "number of splits: 13\n",
      "highest score: 0.6634615384615384\n",
      "\n",
      "number of splits: 14\n",
      "highest score: 0.7010309278350515\n",
      "\n",
      "number of splits: 15\n",
      "highest score: 0.6666666666666666\n",
      "\n",
      "number of splits: 16\n",
      "highest score: 0.7023809523809523\n",
      "\n",
      "number of splits: 17\n",
      "highest score: 0.725\n",
      "\n",
      "number of splits: 18\n",
      "highest score: 0.7466666666666667\n",
      "\n",
      "number of splits: 19\n",
      "highest score: 0.7183098591549296\n",
      "\n",
      "number of splits: 20\n",
      "highest score: 0.7164179104477612\n",
      "\n",
      "number of splits: 21\n",
      "highest score: 0.734375\n",
      "\n",
      "number of splits: 22\n",
      "highest score: 0.7540983606557377\n",
      "\n",
      "number of splits: 23\n",
      "highest score: 0.7457627118644068\n",
      "\n",
      "number of splits: 24\n",
      "highest score: 0.6964285714285714\n",
      "\n",
      "number of splits: 25\n",
      "highest score: 0.7592592592592593\n",
      "\n",
      "number of splits: 26\n",
      "highest score: 0.7115384615384616\n",
      "\n",
      "number of splits: 27\n",
      "highest score: 0.72\n",
      "\n",
      "number of splits: 28\n",
      "highest score: 0.7916666666666666\n",
      "\n",
      "number of splits: 29\n",
      "highest score: 0.723404255319149\n",
      "\n",
      "number of splits: 30\n",
      "highest score: 0.7555555555555555\n",
      "\n",
      "number of splits: 31\n",
      "highest score: 0.7954545454545454\n",
      "\n",
      "number of splits: 32\n",
      "highest score: 0.7619047619047619\n",
      "\n",
      "number of splits: 33\n",
      "highest score: 0.7560975609756098\n",
      "\n",
      "number of splits: 34\n",
      "highest score: 0.8\n",
      "\n",
      "number of splits: 35\n",
      "highest score: 0.7435897435897436\n",
      "\n",
      "number of splits: 36\n",
      "highest score: 0.7631578947368421\n",
      "\n",
      "number of splits: 37\n",
      "highest score: 0.8108108108108109\n",
      "\n",
      "number of splits: 38\n",
      "highest score: 0.75\n",
      "\n",
      "number of splits: 39\n",
      "highest score: 0.7428571428571429\n",
      "\n",
      "number of splits: 40\n",
      "highest score: 0.7941176470588235\n",
      "\n",
      "number of splits: 41\n",
      "highest score: 0.7575757575757576\n",
      "\n",
      "number of splits: 42\n",
      "highest score: 0.8125\n",
      "\n",
      "number of splits: 43\n",
      "highest score: 0.8125\n",
      "\n",
      "number of splits: 44\n",
      "highest score: 0.7741935483870968\n",
      "\n",
      "number of splits: 45\n",
      "highest score: 0.8333333333333334\n",
      "\n",
      "number of splits: 46\n",
      "highest score: 0.7931034482758621\n",
      "\n",
      "number of splits: 47\n",
      "highest score: 0.7857142857142857\n",
      "\n",
      "number of splits: 48\n",
      "highest score: 0.8928571428571429\n",
      "\n",
      "number of splits: 49\n",
      "highest score: 0.8571428571428571\n",
      "\n",
      "number of splits: 50\n",
      "highest score: 0.8148148148148148\n",
      "\n",
      "number of splits: 51\n",
      "highest score: 0.8461538461538461\n",
      "\n",
      "number of splits: 52\n",
      "highest score: 0.8461538461538461\n",
      "\n",
      "number of splits: 53\n",
      "highest score: 0.8\n",
      "\n",
      "number of splits: 54\n",
      "highest score: 0.84\n",
      "\n",
      "number of splits: 55\n",
      "highest score: 0.8\n",
      "\n",
      "number of splits: 56\n",
      "highest score: 0.8333333333333334\n",
      "\n",
      "number of splits: 57\n",
      "highest score: 0.8333333333333334\n",
      "\n",
      "number of splits: 58\n",
      "highest score: 0.8260869565217391\n",
      "\n",
      "number of splits: 59\n",
      "highest score: 0.8695652173913043\n",
      "\n",
      "number of splits: 60\n",
      "highest score: 0.8260869565217391\n",
      "\n",
      "number of splits: 61\n",
      "highest score: 0.8181818181818182\n",
      "\n",
      "number of splits: 62\n",
      "highest score: 0.8181818181818182\n",
      "\n",
      "number of splits: 63\n",
      "highest score: 0.9047619047619048\n",
      "\n",
      "number of splits: 64\n",
      "highest score: 0.9047619047619048\n",
      "\n",
      "number of splits: 65\n",
      "highest score: 0.8095238095238095\n",
      "\n",
      "number of splits: 66\n",
      "highest score: 0.85\n",
      "\n",
      "number of splits: 67\n",
      "highest score: 0.85\n",
      "\n",
      "number of splits: 68\n",
      "highest score: 0.85\n",
      "\n",
      "number of splits: 69\n",
      "highest score: 0.85\n",
      "\n",
      "number of splits: 70\n",
      "highest score: 0.8421052631578947\n",
      "\n",
      "number of splits: 71\n",
      "highest score: 0.8421052631578947\n",
      "\n",
      "number of splits: 72\n",
      "highest score: 0.8421052631578947\n",
      "\n",
      "number of splits: 73\n",
      "highest score: 0.8421052631578947\n",
      "\n",
      "number of splits: 74\n",
      "highest score: 0.8333333333333334\n",
      "\n",
      "number of splits: 75\n",
      "highest score: 0.8333333333333334\n",
      "\n",
      "number of splits: 76\n",
      "highest score: 0.8333333333333334\n",
      "\n",
      "number of splits: 77\n",
      "highest score: 0.9411764705882353\n",
      "\n",
      "number of splits: 78\n",
      "highest score: 0.9411764705882353\n",
      "\n",
      "0.9411764705882353\n"
     ]
    }
   ],
   "source": [
    "high_scores = []\n",
    "\n",
    "for i in range(77):\n",
    "    kfold = KFold(n_splits=i+2, random_state=49, shuffle=True)\n",
    "    scores = cross_val_score(lr, X, y, scoring='accuracy', cv=kfold, n_jobs=-1)\n",
    "    print(f'number of splits: {i+2}\\nhighest score: {np.max(scores)}\\n')\n",
    "    high_scores.append(np.max(scores))\n",
    "\n",
    "print(np.max(high_scores))"
   ]
  },
  {
   "cell_type": "code",
   "execution_count": 71,
   "id": "f12385e6",
   "metadata": {},
   "outputs": [],
   "source": [
    "kfold = KFold(n_splits=77, random_state=49, shuffle=True)"
   ]
  },
  {
   "cell_type": "code",
   "execution_count": 72,
   "id": "2c0d22e7",
   "metadata": {},
   "outputs": [],
   "source": [
    "scores = cross_val_score(lr, X, y, scoring='accuracy', cv=kfold, n_jobs=-1)"
   ]
  },
  {
   "cell_type": "code",
   "execution_count": 75,
   "id": "9052bdd2",
   "metadata": {},
   "outputs": [
    {
     "name": "stdout",
     "output_type": "stream",
     "text": [
      "[0.61111111 0.77777778 0.61111111 0.66666667 0.55555556 0.38888889\n",
      " 0.66666667 0.66666667 0.5        0.61111111 0.66666667 0.55555556\n",
      " 0.61111111 0.72222222 0.44444444 0.66666667 0.77777778 0.55555556\n",
      " 0.55555556 0.72222222 0.61111111 0.61111111 0.72222222 0.55555556\n",
      " 0.66666667 0.83333333 0.77777778 0.55555556 0.72222222 0.55555556\n",
      " 0.72222222 0.61111111 0.66666667 0.44444444 0.66666667 0.72222222\n",
      " 0.55555556 0.66666667 0.66666667 0.55555556 0.52941176 0.52941176\n",
      " 0.58823529 0.58823529 0.52941176 0.94117647 0.35294118 0.58823529\n",
      " 0.58823529 0.70588235 0.58823529 0.58823529 0.52941176 0.47058824\n",
      " 0.35294118 0.64705882 0.58823529 0.64705882 0.35294118 0.47058824\n",
      " 0.64705882 0.52941176 0.58823529 0.70588235 0.52941176 0.70588235\n",
      " 0.70588235 0.47058824 0.64705882 0.64705882 0.76470588 0.64705882\n",
      " 0.70588235 0.58823529 0.47058824 0.52941176 0.70588235]\n",
      "45\n"
     ]
    }
   ],
   "source": [
    "print(scores)\n",
    "\n",
    "print(np.argmax(scores)) #best fold"
   ]
  },
  {
   "cell_type": "code",
   "execution_count": 73,
   "id": "8563b409",
   "metadata": {},
   "outputs": [
    {
     "name": "stdout",
     "output_type": "stream",
     "text": [
      "Accuracy: 0.610 (0.109)\n"
     ]
    }
   ],
   "source": [
    "print('Accuracy: %.3f (%.3f)' % (mean(scores), std(scores)))"
   ]
  },
  {
   "cell_type": "code",
   "execution_count": 78,
   "id": "486cafca",
   "metadata": {},
   "outputs": [
    {
     "name": "stdout",
     "output_type": "stream",
     "text": [
      "(array([   0,    1,    2, ..., 1346, 1347, 1348]), array([  65,  168,  346,  355,  379,  385,  407,  422,  463,  538,  747,\n",
      "        960, 1050, 1140, 1177, 1184, 1226]))\n"
     ]
    }
   ],
   "source": [
    "folds = []\n",
    "gen = kfold.split(X)\n",
    "\n",
    "for i in range(46):\n",
    "    fold = next(gen)\n",
    "    folds.append(fold)\n",
    "\n",
    "print(folds[45])\n",
    "\n",
    "best_fold = folds[45]\n",
    "\n",
    "X_train, y_train = X[best_fold[0]], y[best_fold[0]]\n",
    "X_test, y_test = X[best_fold[1]], y[best_fold[1]]"
   ]
  },
  {
   "cell_type": "code",
   "execution_count": 79,
   "id": "144ecf32",
   "metadata": {},
   "outputs": [
    {
     "name": "stdout",
     "output_type": "stream",
     "text": [
      "X_train shape: (1332, 4)\n",
      "y_train shape: (1332,)\n",
      "X_test shape: (17, 4)\n",
      "y_test shape: (17,)\n"
     ]
    }
   ],
   "source": [
    "print(f'X_train shape: {X_train.shape}\\ny_train shape: {y_train.shape}\\nX_test shape: {X_test.shape}\\ny_test shape: {y_test.shape}')"
   ]
  },
  {
   "cell_type": "markdown",
   "id": "235793dd",
   "metadata": {},
   "source": [
    "### Split Dataset"
   ]
  },
  {
   "cell_type": "code",
   "execution_count": 34,
   "id": "94da0cb2",
   "metadata": {},
   "outputs": [
    {
     "data": {
      "text/plain": [
       "(1079, 4)"
      ]
     },
     "execution_count": 34,
     "metadata": {},
     "output_type": "execute_result"
    }
   ],
   "source": [
    "from sklearn.model_selection import train_test_split\n",
    "\n",
    "X_train, X_test, y_train, y_test = train_test_split(X, y, test_size=0.2, random_state=1)"
   ]
  },
  {
   "cell_type": "markdown",
   "id": "d6cc2dc0",
   "metadata": {},
   "source": [
    "### Hyperparameter Tuning"
   ]
  },
  {
   "cell_type": "code",
   "execution_count": 80,
   "id": "d0d52498",
   "metadata": {},
   "outputs": [],
   "source": [
    "param_grid_lr = {\n",
    "    'max_iter': [20, 50, 100, 200, 500, 1000],                      \n",
    "    'solver': ['newton-cg', 'lbfgs', 'liblinear', 'sag', 'saga'],   \n",
    "    'class_weight': ['balanced']                                    \n",
    "}"
   ]
  },
  {
   "cell_type": "code",
   "execution_count": 81,
   "id": "a744cfd0",
   "metadata": {},
   "outputs": [
    {
     "name": "stdout",
     "output_type": "stream",
     "text": [
      "Fitting 10 folds for each of 30 candidates, totalling 300 fits\n",
      "LogisticRegression(class_weight='balanced', max_iter=20, random_state=1234,\n",
      "                   solver='saga')\n"
     ]
    },
    {
     "name": "stderr",
     "output_type": "stream",
     "text": [
      "C:\\Users\\alexi\\anaconda3\\lib\\site-packages\\sklearn\\linear_model\\_sag.py:350: ConvergenceWarning: The max_iter was reached which means the coef_ did not converge\n",
      "  warnings.warn(\n"
     ]
    }
   ],
   "source": [
    "from sklearn.model_selection import GridSearchCV\n",
    "logModel_grid = GridSearchCV(estimator=LogisticRegression(random_state=1234), param_grid=param_grid_lr, verbose=1, cv=10, n_jobs=-1)\n",
    "logModel_grid.fit(X_train, y_train)\n",
    "\n",
    "\n",
    "print(logModel_grid.best_estimator_)"
   ]
  },
  {
   "cell_type": "markdown",
   "id": "4fb3c9ca",
   "metadata": {},
   "source": [
    "### Model Training"
   ]
  },
  {
   "cell_type": "code",
   "execution_count": 82,
   "id": "7b364cc6",
   "metadata": {},
   "outputs": [
    {
     "name": "stderr",
     "output_type": "stream",
     "text": [
      "C:\\Users\\alexi\\anaconda3\\lib\\site-packages\\sklearn\\linear_model\\_sag.py:350: ConvergenceWarning: The max_iter was reached which means the coef_ did not converge\n",
      "  warnings.warn(\n"
     ]
    },
    {
     "data": {
      "text/html": [
       "<style>#sk-container-id-2 {color: black;background-color: white;}#sk-container-id-2 pre{padding: 0;}#sk-container-id-2 div.sk-toggleable {background-color: white;}#sk-container-id-2 label.sk-toggleable__label {cursor: pointer;display: block;width: 100%;margin-bottom: 0;padding: 0.3em;box-sizing: border-box;text-align: center;}#sk-container-id-2 label.sk-toggleable__label-arrow:before {content: \"▸\";float: left;margin-right: 0.25em;color: #696969;}#sk-container-id-2 label.sk-toggleable__label-arrow:hover:before {color: black;}#sk-container-id-2 div.sk-estimator:hover label.sk-toggleable__label-arrow:before {color: black;}#sk-container-id-2 div.sk-toggleable__content {max-height: 0;max-width: 0;overflow: hidden;text-align: left;background-color: #f0f8ff;}#sk-container-id-2 div.sk-toggleable__content pre {margin: 0.2em;color: black;border-radius: 0.25em;background-color: #f0f8ff;}#sk-container-id-2 input.sk-toggleable__control:checked~div.sk-toggleable__content {max-height: 200px;max-width: 100%;overflow: auto;}#sk-container-id-2 input.sk-toggleable__control:checked~label.sk-toggleable__label-arrow:before {content: \"▾\";}#sk-container-id-2 div.sk-estimator input.sk-toggleable__control:checked~label.sk-toggleable__label {background-color: #d4ebff;}#sk-container-id-2 div.sk-label input.sk-toggleable__control:checked~label.sk-toggleable__label {background-color: #d4ebff;}#sk-container-id-2 input.sk-hidden--visually {border: 0;clip: rect(1px 1px 1px 1px);clip: rect(1px, 1px, 1px, 1px);height: 1px;margin: -1px;overflow: hidden;padding: 0;position: absolute;width: 1px;}#sk-container-id-2 div.sk-estimator {font-family: monospace;background-color: #f0f8ff;border: 1px dotted black;border-radius: 0.25em;box-sizing: border-box;margin-bottom: 0.5em;}#sk-container-id-2 div.sk-estimator:hover {background-color: #d4ebff;}#sk-container-id-2 div.sk-parallel-item::after {content: \"\";width: 100%;border-bottom: 1px solid gray;flex-grow: 1;}#sk-container-id-2 div.sk-label:hover label.sk-toggleable__label {background-color: #d4ebff;}#sk-container-id-2 div.sk-serial::before {content: \"\";position: absolute;border-left: 1px solid gray;box-sizing: border-box;top: 0;bottom: 0;left: 50%;z-index: 0;}#sk-container-id-2 div.sk-serial {display: flex;flex-direction: column;align-items: center;background-color: white;padding-right: 0.2em;padding-left: 0.2em;position: relative;}#sk-container-id-2 div.sk-item {position: relative;z-index: 1;}#sk-container-id-2 div.sk-parallel {display: flex;align-items: stretch;justify-content: center;background-color: white;position: relative;}#sk-container-id-2 div.sk-item::before, #sk-container-id-2 div.sk-parallel-item::before {content: \"\";position: absolute;border-left: 1px solid gray;box-sizing: border-box;top: 0;bottom: 0;left: 50%;z-index: -1;}#sk-container-id-2 div.sk-parallel-item {display: flex;flex-direction: column;z-index: 1;position: relative;background-color: white;}#sk-container-id-2 div.sk-parallel-item:first-child::after {align-self: flex-end;width: 50%;}#sk-container-id-2 div.sk-parallel-item:last-child::after {align-self: flex-start;width: 50%;}#sk-container-id-2 div.sk-parallel-item:only-child::after {width: 0;}#sk-container-id-2 div.sk-dashed-wrapped {border: 1px dashed gray;margin: 0 0.4em 0.5em 0.4em;box-sizing: border-box;padding-bottom: 0.4em;background-color: white;}#sk-container-id-2 div.sk-label label {font-family: monospace;font-weight: bold;display: inline-block;line-height: 1.2em;}#sk-container-id-2 div.sk-label-container {text-align: center;}#sk-container-id-2 div.sk-container {/* jupyter's `normalize.less` sets `[hidden] { display: none; }` but bootstrap.min.css set `[hidden] { display: none !important; }` so we also need the `!important` here to be able to override the default hidden behavior on the sphinx rendered scikit-learn.org. See: https://github.com/scikit-learn/scikit-learn/issues/21755 */display: inline-block !important;position: relative;}#sk-container-id-2 div.sk-text-repr-fallback {display: none;}</style><div id=\"sk-container-id-2\" class=\"sk-top-container\"><div class=\"sk-text-repr-fallback\"><pre>LogisticRegression(class_weight=&#x27;balanced&#x27;, max_iter=20, random_state=1234,\n",
       "                   solver=&#x27;sag&#x27;)</pre><b>In a Jupyter environment, please rerun this cell to show the HTML representation or trust the notebook. <br />On GitHub, the HTML representation is unable to render, please try loading this page with nbviewer.org.</b></div><div class=\"sk-container\" hidden><div class=\"sk-item\"><div class=\"sk-estimator sk-toggleable\"><input class=\"sk-toggleable__control sk-hidden--visually\" id=\"sk-estimator-id-2\" type=\"checkbox\" checked><label for=\"sk-estimator-id-2\" class=\"sk-toggleable__label sk-toggleable__label-arrow\">LogisticRegression</label><div class=\"sk-toggleable__content\"><pre>LogisticRegression(class_weight=&#x27;balanced&#x27;, max_iter=20, random_state=1234,\n",
       "                   solver=&#x27;sag&#x27;)</pre></div></div></div></div></div>"
      ],
      "text/plain": [
       "LogisticRegression(class_weight='balanced', max_iter=20, random_state=1234,\n",
       "                   solver='sag')"
      ]
     },
     "execution_count": 82,
     "metadata": {},
     "output_type": "execute_result"
    }
   ],
   "source": [
    "lr.fit(X_train, y_train)"
   ]
  },
  {
   "cell_type": "markdown",
   "id": "f2d63744",
   "metadata": {},
   "source": [
    "### Testing the model with the test set"
   ]
  },
  {
   "cell_type": "code",
   "execution_count": 84,
   "id": "e189b8f3",
   "metadata": {},
   "outputs": [],
   "source": [
    "pred = lr.predict(X_test)"
   ]
  },
  {
   "cell_type": "code",
   "execution_count": 85,
   "id": "cae0e66a",
   "metadata": {},
   "outputs": [
    {
     "name": "stdout",
     "output_type": "stream",
     "text": [
      "0.9411764705882353\n"
     ]
    }
   ],
   "source": [
    "score = ac_score(pred, y_test)\n",
    "print(score)"
   ]
  },
  {
   "cell_type": "code",
   "execution_count": 86,
   "id": "ad2d0bee",
   "metadata": {},
   "outputs": [
    {
     "data": {
      "text/plain": [
       "array([1, 1, 0, 0, 0, 0, 0, 0, 0, 1, 1, 0, 0, 0, 1, 1, 1], dtype=int64)"
      ]
     },
     "execution_count": 86,
     "metadata": {},
     "output_type": "execute_result"
    }
   ],
   "source": [
    "pred"
   ]
  },
  {
   "cell_type": "code",
   "execution_count": 87,
   "id": "53eae1b7",
   "metadata": {},
   "outputs": [
    {
     "data": {
      "text/plain": [
       "array([1, 1, 0, 0, 0, 0, 0, 0, 0, 1, 0, 0, 0, 0, 1, 1, 1], dtype=int64)"
      ]
     },
     "execution_count": 87,
     "metadata": {},
     "output_type": "execute_result"
    }
   ],
   "source": [
    "y_test"
   ]
  },
  {
   "cell_type": "code",
   "execution_count": 88,
   "id": "6cc6fc34",
   "metadata": {},
   "outputs": [
    {
     "data": {
      "text/plain": [
       "array([[385,  73, 389, 174],\n",
       "       [449, 121, 464, 238],\n",
       "       [341,  57, 370, 174],\n",
       "       [344,  59, 379, 178],\n",
       "       [350,  66, 402, 186],\n",
       "       [351,  68, 407, 188],\n",
       "       [355,  80, 424, 193],\n",
       "       [355,  88, 429, 192],\n",
       "       [345, 113, 437, 198],\n",
       "       [259,  60, 215,  92],\n",
       "       [348,  68, 297, 121],\n",
       "       [422, 318, 440, 274],\n",
       "       [445, 355, 450, 302],\n",
       "       [348, 319, 394, 256],\n",
       "       [414, 355, 415, 285],\n",
       "       [421, 354, 419, 290],\n",
       "       [443, 368, 430, 310]], dtype=int64)"
      ]
     },
     "execution_count": 88,
     "metadata": {},
     "output_type": "execute_result"
    }
   ],
   "source": [
    "X_test"
   ]
  },
  {
   "cell_type": "code",
   "execution_count": 89,
   "id": "c057bfa5",
   "metadata": {},
   "outputs": [],
   "source": [
    "report = class_rep(y_test, pred)"
   ]
  },
  {
   "cell_type": "code",
   "execution_count": 91,
   "id": "1d781da5",
   "metadata": {},
   "outputs": [
    {
     "name": "stdout",
     "output_type": "stream",
     "text": [
      "              precision    recall  f1-score   support\n",
      "\n",
      "           0       1.00      0.91      0.95        11\n",
      "           1       0.86      1.00      0.92         6\n",
      "\n",
      "    accuracy                           0.94        17\n",
      "   macro avg       0.93      0.95      0.94        17\n",
      "weighted avg       0.95      0.94      0.94        17\n",
      "\n"
     ]
    }
   ],
   "source": [
    "print(report)"
   ]
  },
  {
   "cell_type": "code",
   "execution_count": 94,
   "id": "a7152a1f",
   "metadata": {},
   "outputs": [
    {
     "name": "stdout",
     "output_type": "stream",
     "text": [
      " Volume in drive C is Windows-SSD\n",
      " Volume Serial Number is 1A70-6F39\n",
      "\n",
      " Directory of C:\\Users\\alexi\\Documents\\College\\thesis\\enose_machine_learning\n",
      "\n",
      "06/16/2022  08:14 PM    <DIR>          .\n",
      "06/16/2022  08:14 PM    <DIR>          ..\n",
      "06/10/2022  03:29 PM    <DIR>          .ipynb_checkpoints\n",
      "06/10/2022  03:26 PM            43,546 Clustering.ipynb\n",
      "06/16/2022  08:13 PM            84,280 coffee_data.xlsx\n",
      "06/16/2022  03:51 PM            98,416 coffee_dataset.csv\n",
      "06/16/2022  07:17 PM            45,667 coffee_dataset_lowTemp.csv\n",
      "06/16/2022  08:09 PM             9,956 Confusion Matrix.png\n",
      "06/16/2022  08:09 PM            45,855 enose_machine_learning.ipynb\n",
      "06/12/2022  01:37 AM               744 eNose_model_4.sav\n",
      "06/16/2022  04:56 PM             3,260 eNose_model_5.sav\n",
      "06/16/2022  04:50 PM             3,260 eNose_model_dtc.sav\n",
      "06/16/2022  08:14 PM    <DIR>          Gathered Data (E-Nose)\n",
      "06/12/2022  09:55 AM    <DIR>          models\n",
      "06/12/2022  09:55 AM    <DIR>          resources\n",
      "06/10/2022  04:52 PM           114,625 Untitled.ipynb\n",
      "              10 File(s)        449,609 bytes\n",
      "               6 Dir(s)  308,244,762,624 bytes free\n"
     ]
    }
   ],
   "source": [
    "ls"
   ]
  },
  {
   "cell_type": "code",
   "execution_count": 97,
   "id": "d922c212",
   "metadata": {},
   "outputs": [],
   "source": [
    "input_data = pd.read_csv('coffee_data.csv')"
   ]
  },
  {
   "cell_type": "code",
   "execution_count": 100,
   "id": "b3ddf570",
   "metadata": {},
   "outputs": [
    {
     "data": {
      "text/plain": [
       "Index(['MQ-2 Values', 'MQ-7 Values', 'MQ-135 Values', 'MQ-137 Values',\n",
       "       'is_barako', 'is_not_barako'],\n",
       "      dtype='object')"
      ]
     },
     "execution_count": 100,
     "metadata": {},
     "output_type": "execute_result"
    }
   ],
   "source": [
    "input_data.columns"
   ]
  },
  {
   "cell_type": "code",
   "execution_count": 105,
   "id": "6c772733",
   "metadata": {},
   "outputs": [],
   "source": [
    "input_data_X = input_data.drop(columns=['is_barako', 'is_not_barako']).values\n",
    "input_data_y = input_data.is_not_barako.values"
   ]
  },
  {
   "cell_type": "code",
   "execution_count": 108,
   "id": "bcad2174",
   "metadata": {},
   "outputs": [
    {
     "name": "stdout",
     "output_type": "stream",
     "text": [
      "0.5208333333333334\n"
     ]
    }
   ],
   "source": [
    "lr_test_pred = lr.predict(input_data_X)\n",
    "\n",
    "score = ac_score(lr_test_pred, input_data_y)\n",
    "print(score)"
   ]
  },
  {
   "cell_type": "markdown",
   "id": "5f1eed5b",
   "metadata": {},
   "source": [
    "### Confusion Matrix"
   ]
  },
  {
   "cell_type": "code",
   "execution_count": 92,
   "id": "b0ed1bf0",
   "metadata": {},
   "outputs": [],
   "source": [
    "import seaborn as sns\n",
    "import matplotlib.pyplot as plt\n",
    "from mlxtend.plotting import plot_confusion_matrix"
   ]
  },
  {
   "cell_type": "code",
   "execution_count": 93,
   "id": "8aa3ddf4",
   "metadata": {},
   "outputs": [
    {
     "data": {
      "image/png": "[encoded data removed]",
      "text/plain": [
       "<Figure size 720x720 with 1 Axes>"
      ]
     },
     "metadata": {
      "needs_background": "light"
     },
     "output_type": "display_data"
    }
   ],
   "source": [
    "cm = conf_mat(y_test, pred)\n",
    "\n",
    "fig, ax = plot_confusion_matrix(conf_mat=cm, figsize=(10, 10), cmap=plt.cm.Greens)\n",
    "plt.xlabel('Predictions', fontsize=18)\n",
    "plt.ylabel('Actuals', fontsize=18)\n",
    "plt.title('Confusion Matrix', fontsize=18)\n",
    "plt.savefig('Confusion Matrix.png')\n",
    "plt.show()"
   ]
  },
  {
   "cell_type": "code",
   "execution_count": 303,
   "id": "4e2ca815",
   "metadata": {},
   "outputs": [
    {
     "name": "stdout",
     "output_type": "stream",
     "text": [
      "[[ 0.02135866  0.00096821 -0.02234708 -0.00144088]] [1.09530481]\n"
     ]
    }
   ],
   "source": [
    "print(lr.coef_, lr.intercept_)"
   ]
  },
  {
   "cell_type": "markdown",
   "id": "eea43f92",
   "metadata": {},
   "source": [
    "### Save the model"
   ]
  },
  {
   "cell_type": "code",
   "execution_count": 345,
   "id": "15f97922",
   "metadata": {},
   "outputs": [],
   "source": [
    "#save the model \n",
    "filename = 'eNose_model_5.sav'"
   ]
  },
  {
   "cell_type": "code",
   "execution_count": 346,
   "id": "d10fda16",
   "metadata": {},
   "outputs": [],
   "source": [
    "pickle.dump(dtc, open(filename, 'wb'))"
   ]
  },
  {
   "cell_type": "markdown",
   "id": "71be94d5",
   "metadata": {},
   "source": [
    "### Load the model"
   ]
  },
  {
   "cell_type": "code",
   "execution_count": null,
   "id": "522d7a87",
   "metadata": {},
   "outputs": [],
   "source": []
  }
 ],
 "metadata": {
  "kernelspec": {
   "display_name": "Python 3 (ipykernel)",
   "language": "python",
   "name": "python3"
  },
  "language_info": {
   "codemirror_mode": {
    "name": "ipython",
    "version": 3
   },
   "file_extension": ".py",
   "mimetype": "text/x-python",
   "name": "python",
   "nbconvert_exporter": "python",
   "pygments_lexer": "ipython3",
   "version": "3.9.12"
  }
 },
 "nbformat": 4,
 "nbformat_minor": 5
}
