{
  "cells": [
    {
      "cell_type": "code",
      "execution_count": null,
      "metadata": {
        "colab": {
          "base_uri": "https://localhost:8080/"
        },
        "id": "P9haJB8fdUzq",
        "outputId": "951699d2-9cdd-4849-f71e-8f9b8d944026"
      },
      "outputs": [
        {
          "name": "stdout",
          "output_type": "stream",
          "text": [
            "Looking in indexes: https://pypi.org/simple, https://us-python.pkg.dev/colab-wheels/public/simple/\n",
            "Collecting split-folders\n",
            "  Downloading split_folders-0.5.1-py3-none-any.whl (8.4 kB)\n",
            "Installing collected packages: split-folders\n",
            "Successfully installed split-folders-0.5.1\n"
          ]
        }
      ],
      "source": [
        "!pip install split-folders\n",
        "import splitfolders as sf"
      ]
    },
    {
      "cell_type": "code",
      "execution_count": null,
      "metadata": {
        "colab": {
          "base_uri": "https://localhost:8080/"
        },
        "id": "xc7gTz6d2nlM",
        "outputId": "91bd5133-8750-4e04-c5bb-f6c16b4b8969"
      },
      "outputs": [
        {
          "name": "stdout",
          "output_type": "stream",
          "text": [
            "Mounted at /content/drive\n"
          ]
        }
      ],
      "source": [
        "from google.colab import drive\n",
        "drive.mount('/content/drive')"
      ]
    },
    {
      "cell_type": "code",
      "execution_count": null,
      "metadata": {
        "id": "Y9tSgdzEZ0PG"
      },
      "outputs": [],
      "source": [
        "#import modules\n",
        "import matplotlib.pyplot as plt\n",
        "import matplotlib.image as mpimg\n",
        "import tensorflow as tf\n",
        "\n",
        "plt.style.use('classic')\n",
        "\n",
        "from keras.preprocessing.image import ImageDataGenerator\n",
        "from keras.models import Sequential\n",
        "from keras.layers import Conv2D, MaxPooling2D, BatchNormalization\n",
        "from keras.layers import Activation, Dropout, Flatten, Dense\n",
        "\n",
        "import os\n",
        "import cv2\n",
        "from PIL import Image\n",
        "import numpy as np\n",
        "import pandas as pd\n",
        "\n",
        "\n",
        "from sklearn.model_selection import train_test_split\n",
        "from tensorflow.keras.utils import to_categorical\n",
        "from tensorflow.keras.utils import normalize\n",
        "\n",
        "from tensorflow.keras.callbacks import ModelCheckpoint\n",
        "\n",
        "from sklearn.metrics import classification_report, confusion_matrix\n",
        "import itertools"
      ]
    },
    {
      "cell_type": "markdown",
      "metadata": {
        "id": "2ywCrGyhsnZV"
      },
      "source": [
        "## Dataset Preparation"
      ]
    },
    {
      "cell_type": "code",
      "execution_count": null,
      "metadata": {
        "id": "pj3bT6K91ft9"
      },
      "outputs": [],
      "source": [
        "working_dir = '/content/drive/MyDrive/model_training/'"
      ]
    },
    {
      "cell_type": "code",
      "execution_count": null,
      "metadata": {
        "id": "9VB6BNTfr9Zs"
      },
      "outputs": [],
      "source": [
        "input_folder = working_dir + 'Datasets'\n",
        "split_folder = working_dir + 'Dataset_Split'"
      ]
    },
    {
      "cell_type": "code",
      "execution_count": null,
      "metadata": {
        "colab": {
          "base_uri": "https://localhost:8080/"
        },
        "id": "WYIwy1l7eMDl",
        "outputId": "e6a1e3e4-359e-412f-af09-fa64f8d8260b"
      },
      "outputs": [
        {
          "name": "stderr",
          "output_type": "stream",
          "text": [
            "Copying files: 600 files [04:54,  2.04 files/s]\n"
          ]
        }
      ],
      "source": [
        "#Don't run this code when not training a new model.\n",
        "sf.ratio(input_folder, output=split_folder, \n",
        "         seed=123456, ratio=(.7, .25, .05), \n",
        "         group_prefix=None)"
      ]
    },
    {
      "cell_type": "code",
      "execution_count": null,
      "metadata": {
        "id": "zcDtvTQwa5gY"
      },
      "outputs": [],
      "source": [
        " # Change the img_size depending on the requirement of the architecture\n",
        "image_size, batch_size = 224, 32"
      ]
    },
    {
      "cell_type": "code",
      "execution_count": null,
      "metadata": {
        "id": "-JWXdKIR2U3Z"
      },
      "outputs": [],
      "source": [
        "train_dir = '/content/drive/MyDrive/model_training/Dataset_Split/train/'\n",
        "val_dir = '/content/drive/MyDrive/model_training/Dataset_Split/val/'"
      ]
    },
    {
      "cell_type": "markdown",
      "metadata": {
        "id": "2cXHyafntEHG"
      },
      "source": [
        "### Generate Dataset"
      ]
    },
    {
      "cell_type": "code",
      "execution_count": null,
      "metadata": {
        "id": "C32haRHwtHIb"
      },
      "outputs": [],
      "source": [
        "train_datagen = tf.keras.preprocessing.image.ImageDataGenerator(rescale=1./255)\n",
        "validation_datagen = tf.keras.preprocessing.image.ImageDataGenerator(rescale=1./255)"
      ]
    },
    {
      "cell_type": "code",
      "execution_count": null,
      "metadata": {
        "colab": {
          "base_uri": "https://localhost:8080/"
        },
        "id": "b2awvIuP4zBl",
        "outputId": "1e60836c-ffda-4e78-9b07-1f91824a2bb7"
      },
      "outputs": [
        {
          "name": "stdout",
          "output_type": "stream",
          "text": [
            "Found 420 images belonging to 2 classes.\n"
          ]
        }
      ],
      "source": [
        "#Training dataset\n",
        "train_generator = train_datagen.flow_from_directory(\n",
        "                train_dir,  # Source directory for the training images\n",
        "                target_size=(image_size, image_size),\n",
        "                batch_size=batch_size,\n",
        "                class_mode='categorical')"
      ]
    },
    {
      "cell_type": "code",
      "execution_count": null,
      "metadata": {
        "colab": {
          "base_uri": "https://localhost:8080/"
        },
        "id": "my2kBSQ3dxLz",
        "outputId": "efa4d2ec-e3e3-4dbe-9bfb-ee6fc3c3659b"
      },
      "outputs": [
        {
          "data": {
            "text/plain": [
              "{'no_liberica': 0, 'yes_liberica': 1}"
            ]
          },
          "execution_count": 15,
          "metadata": {},
          "output_type": "execute_result"
        }
      ],
      "source": [
        "train_generator.class_indices"
      ]
    },
    {
      "cell_type": "code",
      "execution_count": null,
      "metadata": {
        "colab": {
          "base_uri": "https://localhost:8080/"
        },
        "id": "0-VncOBDtuY8",
        "outputId": "5fe739c9-3470-40bc-a40d-d01c42b2f6ab"
      },
      "outputs": [
        {
          "name": "stdout",
          "output_type": "stream",
          "text": [
            "Found 150 images belonging to 2 classes.\n"
          ]
        }
      ],
      "source": [
        "#Validation dataset\n",
        "validation_generator = validation_datagen.flow_from_directory(\n",
        "                val_dir, # Source directory for the validation images\n",
        "                target_size=(image_size, image_size),\n",
        "                batch_size=batch_size,\n",
        "                class_mode='categorical')"
      ]
    },
    {
      "cell_type": "markdown",
      "metadata": {
        "id": "uIMJ8wqZt_tc"
      },
      "source": [
        "## Model Training"
      ]
    },
    {
      "cell_type": "code",
      "execution_count": null,
      "metadata": {
        "colab": {
          "base_uri": "https://localhost:8080/"
        },
        "id": "spwSst5u68rs",
        "outputId": "3018c632-dbdb-4a10-e045-f6c0a7f9c643"
      },
      "outputs": [
        {
          "name": "stdout",
          "output_type": "stream",
          "text": [
            "Downloading data from https://storage.googleapis.com/tensorflow/keras-applications/mobilenet_v2/mobilenet_v2_weights_tf_dim_ordering_tf_kernels_1.0_224_no_top.h5\n",
            "9412608/9406464 [==============================] - 0s 0us/step\n",
            "9420800/9406464 [==============================] - 0s 0us/step\n"
          ]
        }
      ],
      "source": [
        "img_shape = (image_size, image_size, 3)\n",
        "\n",
        "#MobileNetV2 model --add parameters if necessary\n",
        "base_model = tf.keras.applications.MobileNetV2(\n",
        "    input_shape = img_shape,\n",
        "    include_top = False,\n",
        "    weights = 'imagenet')"
      ]
    },
    {
      "cell_type": "code",
      "execution_count": null,
      "metadata": {
        "id": "hIQsXx3dhAZC"
      },
      "outputs": [],
      "source": [
        "#Create sequential model\n",
        "model = tf.keras.Sequential([\n",
        "  base_model,\n",
        "  tf.keras.layers.GlobalAveragePooling2D(),\n",
        "\n",
        "  #The number of output here corresponds to the number of classes\n",
        "  tf.keras.layers.Dense(2, activation='softmax'),\n",
        "])\n",
        "model.trainable = True"
      ]
    },
    {
      "cell_type": "code",
      "execution_count": null,
      "metadata": {
        "id": "1CVhSEy2hODr"
      },
      "outputs": [],
      "source": [
        "#Create a callback, the best model will be saved based on the minimum validation loss\n",
        "filepath = '/content/drive/MyDrive/model_training/Resources/MobileNetV2_2.h5'\n",
        "checkpoint = ModelCheckpoint(filepath=filepath, \n",
        "                             monitor='accuracy',\n",
        "                             verbose=1, \n",
        "                             save_best_only=True,\n",
        "                             mode='max') \n",
        "callbacks = [checkpoint]"
      ]
    },
    {
      "cell_type": "code",
      "execution_count": null,
      "metadata": {
        "id": "cQIUrEdehjYC"
      },
      "outputs": [],
      "source": [
        "#Compile model before training\n",
        "model.compile(\n",
        "    optimizer='adam',\n",
        "    loss=\"categorical_crossentropy\",\n",
        "    metrics='accuracy')"
      ]
    },
    {
      "cell_type": "code",
      "execution_count": null,
      "metadata": {
        "colab": {
          "base_uri": "https://localhost:8080/"
        },
        "id": "jb0pQIRlQpds",
        "outputId": "7fc4b6a6-8333-4f9a-8eaf-cece488b360c"
      },
      "outputs": [
        {
          "name": "stdout",
          "output_type": "stream",
          "text": [
            "Model: \"sequential\"\n",
            "_________________________________________________________________\n",
            " Layer (type)                Output Shape              Param #   \n",
            "=================================================================\n",
            " mobilenetv2_1.00_224 (Funct  (None, 7, 7, 1280)       2257984   \n",
            " ional)                                                          \n",
            "                                                                 \n",
            " global_average_pooling2d (G  (None, 1280)             0         \n",
            " lobalAveragePooling2D)                                          \n",
            "                                                                 \n",
            " dense (Dense)               (None, 2)                 2562      \n",
            "                                                                 \n",
            "=================================================================\n",
            "Total params: 2,260,546\n",
            "Trainable params: 2,226,434\n",
            "Non-trainable params: 34,112\n",
            "_________________________________________________________________\n"
          ]
        }
      ],
      "source": [
        "model.summary()"
      ]
    },
    {
      "cell_type": "code",
      "execution_count": null,
      "metadata": {
        "colab": {
          "base_uri": "https://localhost:8080/"
        },
        "id": "71vNbBVahpwH",
        "outputId": "dcdffec4-a3f3-42d2-cf28-079506e6df3c"
      },
      "outputs": [
        {
          "name": "stderr",
          "output_type": "stream",
          "text": [
            "/usr/local/lib/python3.7/dist-packages/ipykernel_launcher.py:14: UserWarning: `Model.fit_generator` is deprecated and will be removed in a future version. Please use `Model.fit`, which supports generators.\n",
            "  \n"
          ]
        },
        {
          "name": "stdout",
          "output_type": "stream",
          "text": [
            "Epoch 1/10\n",
            "13/13 [==============================] - ETA: 0s - loss: 0.0843 - accuracy: 0.9588\n",
            "Epoch 1: accuracy improved from -inf to 0.95876, saving model to /content/drive/MyDrive/model_training/Resources/MobileNetV2_2.h5\n",
            "13/13 [==============================] - 158s 10s/step - loss: 0.0843 - accuracy: 0.9588 - val_loss: 10.6743 - val_accuracy: 0.5234\n",
            "Epoch 2/10\n",
            "13/13 [==============================] - ETA: 0s - loss: 0.0725 - accuracy: 0.9897\n",
            "Epoch 2: accuracy improved from 0.95876 to 0.98969, saving model to /content/drive/MyDrive/model_training/Resources/MobileNetV2_2.h5\n",
            "13/13 [==============================] - 143s 9s/step - loss: 0.0725 - accuracy: 0.9897 - val_loss: 26.3652 - val_accuracy: 0.4844\n",
            "Epoch 3/10\n",
            "13/13 [==============================] - ETA: 0s - loss: 0.0085 - accuracy: 0.9974\n",
            "Epoch 3: accuracy improved from 0.98969 to 0.99742, saving model to /content/drive/MyDrive/model_training/Resources/MobileNetV2_2.h5\n",
            "13/13 [==============================] - 143s 9s/step - loss: 0.0085 - accuracy: 0.9974 - val_loss: 0.8314 - val_accuracy: 0.8906\n",
            "Epoch 4/10\n",
            "13/13 [==============================] - ETA: 0s - loss: 0.0027 - accuracy: 1.0000\n",
            "Epoch 4: accuracy improved from 0.99742 to 1.00000, saving model to /content/drive/MyDrive/model_training/Resources/MobileNetV2_2.h5\n",
            "13/13 [==============================] - 146s 9s/step - loss: 0.0027 - accuracy: 1.0000 - val_loss: 0.0949 - val_accuracy: 0.9922\n",
            "Epoch 5/10\n",
            "13/13 [==============================] - ETA: 0s - loss: 8.0779e-04 - accuracy: 1.0000\n",
            "Epoch 5: accuracy did not improve from 1.00000\n",
            "13/13 [==============================] - 161s 11s/step - loss: 8.0779e-04 - accuracy: 1.0000 - val_loss: 0.0926 - val_accuracy: 0.9922\n",
            "Epoch 6/10\n",
            "13/13 [==============================] - ETA: 0s - loss: 2.3644e-04 - accuracy: 1.0000\n",
            "Epoch 6: accuracy did not improve from 1.00000\n",
            "13/13 [==============================] - 141s 9s/step - loss: 2.3644e-04 - accuracy: 1.0000 - val_loss: 0.0030 - val_accuracy: 1.0000\n",
            "Epoch 7/10\n",
            "13/13 [==============================] - ETA: 0s - loss: 0.0674 - accuracy: 0.9923\n",
            "Epoch 7: accuracy did not improve from 1.00000\n",
            "13/13 [==============================] - 144s 9s/step - loss: 0.0674 - accuracy: 0.9923 - val_loss: 32.3474 - val_accuracy: 0.4766\n",
            "Epoch 8/10\n",
            "13/13 [==============================] - ETA: 0s - loss: 0.0680 - accuracy: 0.9820\n",
            "Epoch 8: accuracy did not improve from 1.00000\n",
            "13/13 [==============================] - 148s 10s/step - loss: 0.0680 - accuracy: 0.9820 - val_loss: 36.1422 - val_accuracy: 0.4922\n",
            "Epoch 9/10\n",
            "13/13 [==============================] - ETA: 0s - loss: 0.0087 - accuracy: 0.9974\n",
            "Epoch 9: accuracy did not improve from 1.00000\n",
            "13/13 [==============================] - 143s 9s/step - loss: 0.0087 - accuracy: 0.9974 - val_loss: 12.1976 - val_accuracy: 0.4922\n",
            "Epoch 10/10\n",
            "13/13 [==============================] - ETA: 0s - loss: 0.0183 - accuracy: 0.9948\n",
            "Epoch 10: accuracy did not improve from 1.00000\n",
            "13/13 [==============================] - 142s 9s/step - loss: 0.0183 - accuracy: 0.9948 - val_loss: 8.8221 - val_accuracy: 0.5000\n"
          ]
        }
      ],
      "source": [
        "#Some parameters\n",
        "epochs = 10\n",
        "steps_per_epoch = train_generator.n // batch_size #32\n",
        "validation_steps = validation_generator.n // batch_size #32\n",
        "\n",
        "#Model Fitting\n",
        "history = model.fit_generator(train_generator,\n",
        "                    steps_per_epoch = steps_per_epoch,\n",
        "                    epochs = epochs,\n",
        "                    workers = 4,\n",
        "                    verbose = 1,\n",
        "                    validation_data = validation_generator,\n",
        "                    validation_steps = validation_steps,\n",
        "                    callbacks=callbacks)"
      ]
    },
    {
      "cell_type": "code",
      "execution_count": null,
      "metadata": {
        "id": "Qdum3tKZh0Mj"
      },
      "outputs": [],
      "source": [
        "# Save the history as CSV file\n",
        "hist_df = pd.DataFrame(history.history)\n",
        "path = '/content/drive/MyDrive/model_training/Resources/'\n",
        "\n",
        "#Save as CSV file\n",
        "hist_df.to_csv(path_or_buf= path + 'MobileNetV2_2.csv', index=False)"
      ]
    },
    {
      "cell_type": "code",
      "execution_count": null,
      "metadata": {
        "colab": {
          "base_uri": "https://localhost:8080/",
          "height": 459
        },
        "id": "kQYIJgCL0vUo",
        "outputId": "6f6b4848-c937-4820-f9ba-dc19e4c1c21c"
      },
      "outputs": [
        {
          "data": {
            "image/png": "[encoded data removed]",
            "text/plain": [
              "<Figure size 640x480 with 1 Axes>"
            ]
          },
          "metadata": {},
          "output_type": "display_data"
        }
      ],
      "source": [
        "#plot the training history (training loss & accuracy)\n",
        "plt.plot(history.history['loss'], 'b', label='Training Loss')\n",
        "plt.plot(history.history['accuracy'], 'r', label='Training Accuracy')\n",
        "plt.legend()\n",
        "plt.xlabel('Epochs')\n",
        "# plt.ylabel('Accuracy')\n",
        "plt.savefig(path + 'Training Accuracy vs Loss.png')\n",
        "plt.show()"
      ]
    },
    {
      "cell_type": "code",
      "execution_count": null,
      "metadata": {
        "colab": {
          "base_uri": "https://localhost:8080/",
          "height": 459
        },
        "id": "1NB9ypLQ5SEe",
        "outputId": "e5a027a6-bd24-4d35-922e-5e524e3401a2"
      },
      "outputs": [
        {
          "data": {
            "image/png": "[encoded data removed]",
            "text/plain": [
              "<Figure size 640x480 with 1 Axes>"
            ]
          },
          "metadata": {},
          "output_type": "display_data"
        }
      ],
      "source": [
        "#plot the training history (training loss & accuracy)\n",
        "plt.plot(history.history['val_loss'], 'b', label='Validation Loss')\n",
        "plt.plot(history.history['val_accuracy'], 'r', label='Validation Accuracy')\n",
        "plt.legend()\n",
        "plt.xlabel('Epochs')\n",
        "# plt.ylabel('Accuracy')\n",
        "plt.savefig(path + 'Validation Accuracy vs Loss.png')\n",
        "plt.show()"
      ]
    },
    {
      "cell_type": "code",
      "execution_count": null,
      "metadata": {
        "id": "mOOKZhOt9Sxf"
      },
      "outputs": [],
      "source": [
        "# #Plot training and validation accuracy and loss at each epoch\n",
        "# loss = history.history['loss']\n",
        "# val_loss = history.history['val_loss']\n",
        "# acc = history.history['accuracy']\n",
        "# val_acc = history.history['val_accuracy']\n",
        "# epochs = range(1, len(loss) + 1)\n",
        "\n",
        "# plt.plot(epochs, loss, 'y', label='Training Loss')\n",
        "# plt.plot(epochs, val_loss, 'r', label='Validation Loss')\n",
        "# plt.plot(epochs, acc, 'b', label='Training Accuracy')\n",
        "# plt.plot(epochs, val_acc, 'g', label='Validation Accuracy')\n",
        "\n",
        "# plt.title('Training History')\n",
        "# plt.xlabel('Epochs')\n",
        "# plt.ylabel('Accuracy & Loss')\n",
        "# plt.legend()\n",
        "\n",
        "# # plt.subplot(1,2,2)\n",
        "# # plt.plot(epochs, acc, 'y', label='Training Accuracy')\n",
        "# # plt.plot(epochs, val_acc, 'r', label='Validation Accuracy')\n",
        "# # plt.title('Training and Validation Accuracy')\n",
        "# # plt.xlabel('Epochs')\n",
        "# # plt.ylabel('Accuracy')\n",
        "# # plt.legend()\n",
        "# plt.savefig(path+'training_history.png')\n",
        "# plt.show()"
      ]
    },
    {
      "cell_type": "markdown",
      "metadata": {
        "id": "GWeNaUCV1CWN"
      },
      "source": [
        "## Model Testing"
      ]
    },
    {
      "cell_type": "code",
      "execution_count": null,
      "metadata": {
        "colab": {
          "base_uri": "https://localhost:8080/"
        },
        "id": "KEs1A2an1EBe",
        "outputId": "f476141d-e265-4a73-a458-2a1d1c30dcd6"
      },
      "outputs": [
        {
          "data": {
            "text/plain": [
              "<keras.engine.sequential.Sequential at 0x7efce838a1d0>"
            ]
          },
          "execution_count": 3,
          "metadata": {},
          "output_type": "execute_result"
        }
      ],
      "source": [
        "#Load the model\n",
        "trained_model = tf.keras.models.load_model('/content/drive/MyDrive/model_training/Resources/MobileNetV2.h5')\n",
        "trained_model"
      ]
    },
    {
      "cell_type": "code",
      "execution_count": null,
      "metadata": {
        "id": "N8DkIo1X1UIH"
      },
      "outputs": [],
      "source": [
        "#Load and generate test dataset\n",
        "test_dir = '/content/drive/MyDrive/model_training/Dataset_Split/test/'\n",
        "test_datagen = tf.keras.preprocessing.image.ImageDataGenerator(rescale=1./255)"
      ]
    },
    {
      "cell_type": "code",
      "execution_count": null,
      "metadata": {
        "colab": {
          "base_uri": "https://localhost:8080/"
        },
        "id": "8ZW9KvPH1c2q",
        "outputId": "faf2a88b-64bc-401c-c274-85039627267c"
      },
      "outputs": [
        {
          "name": "stdout",
          "output_type": "stream",
          "text": [
            "Found 30 images belonging to 2 classes.\n"
          ]
        }
      ],
      "source": [
        "image_size = 224\n",
        "batch_size = 32\n",
        "\n",
        "# test_generator = test_datagen.flow_from_directory(\n",
        "#                 test_dir,  # Source directory for the testing images\n",
        "#                 target_size=(image_size, image_size),\n",
        "#                 batch_size=batch_size,\n",
        "#                 shuffle = False,\n",
        "#                 class_mode='categorical')\n",
        "\n",
        "test_generator =  test_datagen.flow_from_directory(\n",
        "                test_dir,  # Source directory for the testing images\n",
        "                target_size=(image_size, image_size),\n",
        "                batch_size=batch_size,\n",
        "                shuffle = False,\n",
        "                class_mode='categorical')"
      ]
    },
    {
      "cell_type": "code",
      "execution_count": null,
      "metadata": {
        "colab": {
          "base_uri": "https://localhost:8080/"
        },
        "id": "4sVMMq4Mfjgj",
        "outputId": "d9d82de8-03d8-4388-9d27-21d368783e2c"
      },
      "outputs": [
        {
          "data": {
            "text/plain": [
              "{'barako': 0, 'not_barako': 1}"
            ]
          },
          "execution_count": 6,
          "metadata": {},
          "output_type": "execute_result"
        }
      ],
      "source": [
        "test_generator.class_indices"
      ]
    },
    {
      "cell_type": "code",
      "execution_count": null,
      "metadata": {
        "id": "2Hho5UTg1fsU"
      },
      "outputs": [],
      "source": [
        "#Test the model using the test dataset\n",
        "predictions = trained_model.predict(test_generator)"
      ]
    },
    {
      "cell_type": "code",
      "execution_count": null,
      "metadata": {
        "colab": {
          "base_uri": "https://localhost:8080/"
        },
        "id": "SZYqAiKS13Ps",
        "outputId": "44d6f289-ab06-46fa-acc3-e1549cfbac3e"
      },
      "outputs": [
        {
          "name": "stdout",
          "output_type": "stream",
          "text": [
            "[[0.63273805 0.36726195]\n",
            " [0.45886928 0.5411307 ]\n",
            " [0.50222355 0.49777648]\n",
            " [0.3451827  0.65481734]\n",
            " [0.67180175 0.3281982 ]\n",
            " [0.3072073  0.6927927 ]\n",
            " [0.70551515 0.29448485]\n",
            " [0.56730807 0.43269193]\n",
            " [0.30289885 0.6971012 ]\n",
            " [0.3969283  0.6030717 ]\n",
            " [0.35036638 0.64963365]\n",
            " [0.47800368 0.5219963 ]\n",
            " [0.34918457 0.65081537]\n",
            " [0.36982375 0.6301763 ]\n",
            " [0.20608135 0.79391867]\n",
            " [0.30051684 0.6994831 ]\n",
            " [0.32474202 0.675258  ]\n",
            " [0.1846781  0.81532186]\n",
            " [0.23538673 0.7646133 ]\n",
            " [0.16989806 0.8301019 ]\n",
            " [0.26558483 0.73441523]\n",
            " [0.29951826 0.7004818 ]\n",
            " [0.2801893  0.7198107 ]\n",
            " [0.28764024 0.7123597 ]\n",
            " [0.38532516 0.6146748 ]\n",
            " [0.12775314 0.87224686]\n",
            " [0.18858543 0.81141454]\n",
            " [0.28966933 0.71033067]\n",
            " [0.36892262 0.6310774 ]\n",
            " [0.18890445 0.81109554]]\n"
          ]
        }
      ],
      "source": [
        "#Raw predictions (percentages)\n",
        "print(predictions)"
      ]
    },
    {
      "cell_type": "code",
      "execution_count": null,
      "metadata": {
        "colab": {
          "base_uri": "https://localhost:8080/"
        },
        "id": "gY7BOFlw152R",
        "outputId": "d0175427-c8f9-4814-81d5-0a8d0dc1d261"
      },
      "outputs": [
        {
          "name": "stderr",
          "output_type": "stream",
          "text": [
            "/usr/local/lib/python3.7/dist-packages/ipykernel_launcher.py:1: UserWarning: `Model.evaluate_generator` is deprecated and will be removed in a future version. Please use `Model.evaluate`, which supports generators.\n",
            "  \"\"\"Entry point for launching an IPython kernel.\n"
          ]
        },
        {
          "name": "stdout",
          "output_type": "stream",
          "text": [
            "WARNING:tensorflow:Your input ran out of data; interrupting training. Make sure that your dataset or generator can generate at least `steps_per_epoch * epochs` batches (in this case, 3 batches). You may need to use the repeat() function when building your dataset.\n",
            "[INFO] accuracy: 66.67%\n",
            "[INFO] loss: 0.5866636037826538\n"
          ]
        }
      ],
      "source": [
        "score = trained_model.evaluate_generator(test_generator, steps=3)\n",
        "print(\"[INFO] accuracy: {:.2f}%\".format(score[1]*100))\n",
        "print(\"[INFO] loss:\",score[0])"
      ]
    },
    {
      "cell_type": "markdown",
      "metadata": {
        "id": "YdXSSF8DXjum"
      },
      "source": [
        "## Visualization"
      ]
    },
    {
      "cell_type": "code",
      "execution_count": null,
      "metadata": {
        "colab": {
          "base_uri": "https://localhost:8080/"
        },
        "id": "8wDOofIBIatG",
        "outputId": "63a3cffb-b53d-469e-eebc-f48e91fd4e6f"
      },
      "outputs": [
        {
          "name": "stdout",
          "output_type": "stream",
          "text": [
            "{'barako': 0, 'not_barako': 1}\n",
            "\n",
            "\n",
            "    PREDICTED CLASS      TRUE CLASS            FILENAME \n",
            "    barako       barako       barako/liberica_beans (10).jpg\n",
            "    not_barako       barako       barako/liberica_beans (11).jpg\n",
            "    barako       barako       barako/liberica_beans (111).jpg\n",
            "    not_barako       barako       barako/liberica_beans (112).jpg\n",
            "    barako       barako       barako/liberica_beans (122).jpg\n",
            "    not_barako       barako       barako/liberica_beans (134).jpg\n",
            "    barako       barako       barako/liberica_beans (152).jpg\n",
            "    barako       barako       barako/liberica_beans (159).jpg\n",
            "    not_barako       barako       barako/liberica_beans (18).jpg\n",
            "    not_barako       barako       barako/liberica_beans (185).jpg\n",
            "    not_barako       barako       barako/liberica_beans (204).jpg\n",
            "    not_barako       barako       barako/liberica_beans (222).jpg\n",
            "    not_barako       barako       barako/liberica_beans (232).jpg\n",
            "    not_barako       barako       barako/liberica_beans (53).jpg\n",
            "    not_barako       barako       barako/liberica_beans (72).jpg\n",
            "    not_barako       not_barako       not_barako/non_liberica (10).jpg\n",
            "    not_barako       not_barako       not_barako/non_liberica (11).jpg\n",
            "    not_barako       not_barako       not_barako/non_liberica (111).jpg\n",
            "    not_barako       not_barako       not_barako/non_liberica (112).jpg\n",
            "    not_barako       not_barako       not_barako/non_liberica (122).jpg\n",
            "    not_barako       not_barako       not_barako/non_liberica (134).jpg\n",
            "    not_barako       not_barako       not_barako/non_liberica (152).jpg\n",
            "    not_barako       not_barako       not_barako/non_liberica (159).jpg\n",
            "    not_barako       not_barako       not_barako/non_liberica (18).jpg\n",
            "    not_barako       not_barako       not_barako/non_liberica (185).jpg\n",
            "    not_barako       not_barako       not_barako/non_liberica (204).jpg\n",
            "    not_barako       not_barako       not_barako/non_liberica (222).jpg\n",
            "    not_barako       not_barako       not_barako/non_liberica (232).jpg\n",
            "    not_barako       not_barako       not_barako/non_liberica (53).jpg\n",
            "    not_barako       not_barako       not_barako/non_liberica (72).jpg\n"
          ]
        }
      ],
      "source": [
        "test_file_names = test_generator.filenames  # sequential list of name of test files of each sample\n",
        "test_labels = test_generator.labels # is a sequential list  of test labels for each image sample\n",
        "class_dict = test_generator.class_indices # a dictionary where key is the class name and value is the corresponding label for the class\n",
        "\n",
        "print(class_dict ); print('\\n') # have a look at the dictionary\n",
        "new_dict={} \n",
        "\n",
        "#Create array for storage\n",
        "pred_ind = [] #numerical values\n",
        "\n",
        "predicted_classes = []\n",
        "true_classes = []\n",
        "filenames = []\n",
        "\n",
        "for key in class_dict: #set key in new_dict to value in class_dict and value in new_dict to key in class_dict\n",
        "    value=class_dict[key]\n",
        "    new_dict[value]=key\n",
        "\n",
        "print('    PREDICTED CLASS      TRUE CLASS            FILENAME ' ) # adjust spacing based on your class names\n",
        "for i, p in enumerate(predictions):\n",
        "    pred_index = np.argmax(p) #get the index that has the highest probability\n",
        "    pred_ind.append(np.argmax(p)) #store the predicted class indices (numerical)\n",
        "\n",
        "    pred_class = new_dict[pred_index]  # find the predicted class based on the index\n",
        "    predicted_classes.append(pred_class) #store the actual predicted classes (string)\n",
        "\n",
        "    true_class = new_dict[test_labels[i]] # use the test label to get the true class of the test file\n",
        "    true_classes.append(true_class)\n",
        "\n",
        "    file = test_file_names[i]\n",
        "    filenames.append(file)\n",
        "\n",
        "    print(f'    {pred_class}       {true_class}       {file}')"
      ]
    },
    {
      "cell_type": "code",
      "execution_count": null,
      "metadata": {
        "id": "YhLgE9XJIpLq"
      },
      "outputs": [],
      "source": [
        "#Save the prediction into a more readable format\n",
        "pred_df = pd.DataFrame(np.column_stack([filenames, true_classes, predicted_classes]), columns=['Filename', 'True Class', 'Predicted Class'])\n",
        "pred_df.to_csv('/content/drive/MyDrive/model_training/Resources/predictions.csv', index=False) #Save to a CSV file"
      ]
    },
    {
      "cell_type": "markdown",
      "metadata": {
        "id": "K8KtVVANRPmT"
      },
      "source": [
        "## CONFUSION MATRIX"
      ]
    },
    {
      "cell_type": "code",
      "execution_count": null,
      "metadata": {
        "colab": {
          "base_uri": "https://localhost:8080/",
          "height": 1000
        },
        "id": "4CxVzfePOjgO",
        "outputId": "32fae21e-74e7-49b2-afa5-965a43f1b08f"
      },
      "outputs": [
        {
          "name": "stdout",
          "output_type": "stream",
          "text": [
            "Confusion matrix, without normalization\n",
            "\n",
            "                          Classification Report\n",
            "              precision    recall  f1-score   support\n",
            "\n",
            " no_liberica       1.00      1.00      1.00        15\n",
            "yes_liberica       1.00      1.00      1.00        15\n",
            "\n",
            "    accuracy                           1.00        30\n",
            "   macro avg       1.00      1.00      1.00        30\n",
            "weighted avg       1.00      1.00      1.00        30\n",
            "\n"
          ]
        },
        {
          "data": {
            "image/png": "[encoded data removed]",
            "text/plain": [
              "<Figure size 1600x1600 with 2 Axes>"
            ]
          },
          "metadata": {},
          "output_type": "display_data"
        }
      ],
      "source": [
        "#Plot the confusion matrix. Set Normalize = True/False\n",
        "def plot_confusion_matrix(cm, classes, normalize=False, title='Confusion Matrix', cmap=plt.cm.Reds):\n",
        "    \n",
        "    # This function prints and plots the confusion matrix.\n",
        "    # Normalization can be applied by setting `normalize=True`.\n",
        "    \n",
        "    plt.figure(figsize=(20,20))\n",
        "    plt.imshow(cm, interpolation='nearest', cmap=cmap)\n",
        "    plt.title(title)\n",
        "    plt.colorbar()\n",
        "    tick_marks = np.arange(len(classes))\n",
        "    plt.xticks(tick_marks, classes, rotation=45)\n",
        "    plt.yticks(tick_marks, classes)\n",
        "    \n",
        "    if normalize:\n",
        "        cm = cm.astype('float') / cm.sum(axis=1)[:, np.newaxis]\n",
        "        cm = np.around(cm, decimals=2)\n",
        "        cm[np.isnan(cm)] = 0.0\n",
        "        print(\"Normalized confusion matrix\\n\")\n",
        "    else:\n",
        "        print('Confusion matrix, without normalization\\n')\n",
        "    thresh = cm.max() / 2.\n",
        "    for i, j in itertools.product(range(cm.shape[0]), range(cm.shape[1])):\n",
        "        plt.text(j, i, cm[i, j],\n",
        "                 horizontalalignment=\"center\",\n",
        "                 color=\"white\" if cm[i, j] > thresh else \"black\")\n",
        "    plt.tight_layout()\n",
        "    plt.ylabel('Predicted Label')\n",
        "    plt.xlabel('True Label')\n",
        "\n",
        "    # %cd = /content/drive/MyDrive/thesis-02/resource_files/\n",
        "    plt.savefig('/content/drive/MyDrive/model_training_v2/Resources/Confusion Matrix.png')\n",
        "\n",
        "#shuffle=False\n",
        "target_names = []\n",
        "for key in test_generator.class_indices:\n",
        "    target_names.append(key)\n",
        "\n",
        "#Confusion Matrix\n",
        "Y_pred = predictions\n",
        "y_pred = np.argmax(Y_pred, axis=1)\n",
        "\n",
        "#print('Confusion Matrix')\n",
        "cm = confusion_matrix(test_generator.classes, y_pred)\n",
        "plot_confusion_matrix(cm, target_names, title='Confusion Matrix')\n",
        "\n",
        "#Print Classification Report\n",
        "print('                          Classification Report')\n",
        "print(classification_report(test_generator.classes, y_pred, target_names=target_names))"
      ]
    }
  ],
  "metadata": {
    "colab": {
      "collapsed_sections": [],
      "name": "model_training.ipynb",
      "provenance": []
    },
    "kernelspec": {
      "display_name": "Python 3",
      "name": "python3"
    },
    "language_info": {
      "name": "python"
    }
  },
  "nbformat": 4,
  "nbformat_minor": 0
}
